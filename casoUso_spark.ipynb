{
 "cells": [
  {
   "cell_type": "markdown",
   "metadata": {},
   "source": [
    "# Importamos el spark session y creamos nuestra app name"
   ]
  },
  {
   "cell_type": "code",
   "execution_count": 2,
   "metadata": {},
   "outputs": [],
   "source": [
    "from pyspark.sql import functions as F\n",
    "from pyspark.sql import SparkSession"
   ]
  },
  {
   "cell_type": "code",
   "execution_count": 3,
   "metadata": {},
   "outputs": [],
   "source": [
    "spark = SparkSession.builder.appName(\"SparkByExamples\").getOrCreate()"
   ]
  },
  {
   "cell_type": "markdown",
   "metadata": {},
   "source": [
    "# Comandos utiles para programar en pandas"
   ]
  },
  {
   "cell_type": "markdown",
   "metadata": {},
   "source": [
    "**filter()** se usa para devolver el marco de datos en función de la condición dada al eliminar las filas en el marco de datos o al extraer las filas o columnas particulares del marco de datos. Filtraremos el marco de datos en varias columnas. Puede tomar una condición y devolver el marco de datos.\n",
    "\n",
    "Sintaxis:\n",
    "filter (condición de dataframe.column)"
   ]
  },
  {
   "cell_type": "markdown",
   "metadata": {},
   "source": [
    "**join()** es el proceso de tomar datos de varias tablas y colocarlos en una vista generada.\n",
    "\n",
    "Sintaxis:\n",
    "DataFrame().join(other, on=None, how=None)\n",
    "otro: otro df\n",
    "how: inner,cross, outer, full, full_outer, left, left_outer, right, right_outer, left_semi, and left_anti"
   ]
  },
  {
   "cell_type": "markdown",
   "metadata": {},
   "source": [
    "**show()** es la operación para mostrar un dataframe"
   ]
  },
  {
   "cell_type": "markdown",
   "metadata": {},
   "source": [
    "**printSchema()** es la operación para acceder al schema de cada dataFrame"
   ]
  },
  {
   "cell_type": "markdown",
   "metadata": {},
   "source": [
    "# Tablas de datos de clientes activos\n",
    "La tabla \"t_active_customers\" contiene información sobre el estatus del cliente dentro del banco"
   ]
  },
  {
   "cell_type": "code",
   "execution_count": 5,
   "metadata": {},
   "outputs": [
    {
     "name": "stdout",
     "output_type": "stream",
     "text": [
      "+-----------+---------------+-----------------+\n",
      "|customer_id|customer_status|debit_card_status|\n",
      "+-----------+---------------+-----------------+\n",
      "|   98735029|              A|                A|\n",
      "|   92028383|             NA|                 |\n",
      "|   00012345|              A|                 |\n",
      "|   00735398|              A|                A|\n",
      "+-----------+---------------+-----------------+\n",
      "\n"
     ]
    }
   ],
   "source": [
    "# Creamos la tabla\n",
    "data = [(\"98735029\", \"A\", \"A\"), (\"92028383\", \"NA\", \"\"), (\"00012345\", \"A\", \"\"), (\"00735398\", \"A\", \"A\")]\n",
    "schema = ['customer_id', 'customer_status', 'debit_card_status']\n",
    "t_active_customers = spark.createDataFrame(data, schema)\n",
    "\n",
    "# Mostramos la tabla\n",
    "t_active_customers.show()"
   ]
  },
  {
   "cell_type": "markdown",
   "metadata": {},
   "source": [
    "# Tablas de datos de tipo de producto\n",
    "La tabla \"t_product_bank\" contiene información del tipo de producto con oferta en el sistema del banco"
   ]
  },
  {
   "cell_type": "code",
   "execution_count": 8,
   "metadata": {},
   "outputs": [
    {
     "name": "stdout",
     "output_type": "stream",
     "text": [
      "+-----------+---------------+\n",
      "|customer_id|   product_type|\n",
      "+-----------+---------------+\n",
      "|   98735029|adelanto_nomina|\n",
      "|   92028383|      tdc_model|\n",
      "|   00112345|    credit_card|\n",
      "|   00735398|  mortage_model|\n",
      "+-----------+---------------+\n",
      "\n"
     ]
    }
   ],
   "source": [
    "# Creamos la tabla\n",
    "data = [(\"98735029\", \"adelanto_nomina\"), (\"92028383\", \"tdc_model\"),\\\n",
    "         (\"00112345\", \"credit_card\"), (\"00735398\", \"mortage_model\")]\n",
    "schema = ['customer_id', 'product_type']\n",
    "t_product_bank = spark.createDataFrame(data, schema)\n",
    "\n",
    "# Mostramos la tabla\n",
    "t_product_bank.show()"
   ]
  },
  {
   "cell_type": "markdown",
   "metadata": {},
   "source": [
    "# Tablas de datos de tipo de producto y la respuesta de la campaña\n",
    "La tabla \"t_product_offer\" contiene información del tipo de producto con oferta en el sistema del banco y la respuesta de la oferta del mismo, en caso de ser vacía no se ha enviado la campaña"
   ]
  },
  {
   "cell_type": "code",
   "execution_count": 11,
   "metadata": {},
   "outputs": [
    {
     "name": "stdout",
     "output_type": "stream",
     "text": [
      "+-----------+-------------+-----------------+\n",
      "|customer_id| product_type|campaign_response|\n",
      "+-----------+-------------+-----------------+\n",
      "|   98735029|    tdc_model|              yes|\n",
      "|   92028383|    tdc_model|              yes|\n",
      "|   00112345|  credit_card|                 |\n",
      "|   00735398|mortage_model|                 |\n",
      "+-----------+-------------+-----------------+\n",
      "\n"
     ]
    }
   ],
   "source": [
    "# Creamos la tabla\n",
    "data = [(\"98735029\", \"tdc_model\", \"yes\"), (\"92028383\", \"tdc_model\", \"yes\"),\\\n",
    "         (\"00112345\", \"credit_card\", \"\"), (\"00735398\", \"mortage_model\", \"\")]\n",
    "schema = ['customer_id', 'product_type', 'campaign_response']\n",
    "t_product_offer = spark.createDataFrame(data, schema)\n",
    "\n",
    "# Mostramos la tabla\n",
    "t_product_offer.show()"
   ]
  },
  {
   "cell_type": "markdown",
   "metadata": {},
   "source": [
    "# Solución"
   ]
  },
  {
   "cell_type": "code",
   "execution_count": 15,
   "metadata": {},
   "outputs": [],
   "source": [
    "# Necesitamos los clientes sin respuesta en la campaña"
   ]
  },
  {
   "cell_type": "code",
   "execution_count": 12,
   "metadata": {},
   "outputs": [],
   "source": [
    "t_product_offer_em = t_product_offer.filter(F.col('campaign_response') == \"\")"
   ]
  },
  {
   "cell_type": "code",
   "execution_count": 14,
   "metadata": {},
   "outputs": [
    {
     "name": "stdout",
     "output_type": "stream",
     "text": [
      "+-----------+-------------+-----------------+\n",
      "|customer_id| product_type|campaign_response|\n",
      "+-----------+-------------+-----------------+\n",
      "|   00112345|  credit_card|                 |\n",
      "|   00735398|mortage_model|                 |\n",
      "+-----------+-------------+-----------------+\n",
      "\n"
     ]
    }
   ],
   "source": [
    "t_product_offer_em.show()"
   ]
  },
  {
   "cell_type": "code",
   "execution_count": null,
   "metadata": {},
   "outputs": [],
   "source": [
    "# Unimos ambos data frames en el cliente y producto"
   ]
  },
  {
   "cell_type": "code",
   "execution_count": 24,
   "metadata": {},
   "outputs": [],
   "source": [
    "l_keys = ['customer_id','product_type']\n",
    "t_product_customer = t_product_offer_em.join(t_product_bank, on = l_keys, how = \"left\")"
   ]
  },
  {
   "cell_type": "code",
   "execution_count": 25,
   "metadata": {},
   "outputs": [
    {
     "name": "stdout",
     "output_type": "stream",
     "text": [
      "+-----------+-------------+-----------------+\n",
      "|customer_id| product_type|campaign_response|\n",
      "+-----------+-------------+-----------------+\n",
      "|   00112345|  credit_card|                 |\n",
      "|   00735398|mortage_model|                 |\n",
      "+-----------+-------------+-----------------+\n",
      "\n"
     ]
    }
   ],
   "source": [
    "t_product_customer.show()"
   ]
  },
  {
   "cell_type": "code",
   "execution_count": null,
   "metadata": {},
   "outputs": [],
   "source": [
    "# Obtenemos el dataframe de los clientes activos"
   ]
  },
  {
   "cell_type": "code",
   "execution_count": 17,
   "metadata": {},
   "outputs": [],
   "source": [
    "t_active_customers_A = t_active_customers.filter(F.col(\"customer_status\") == \"A\")"
   ]
  },
  {
   "cell_type": "code",
   "execution_count": 18,
   "metadata": {},
   "outputs": [
    {
     "name": "stdout",
     "output_type": "stream",
     "text": [
      "+-----------+---------------+-----------------+\n",
      "|customer_id|customer_status|debit_card_status|\n",
      "+-----------+---------------+-----------------+\n",
      "|   98735029|              A|                A|\n",
      "|   00012345|              A|                 |\n",
      "|   00735398|              A|                A|\n",
      "+-----------+---------------+-----------------+\n",
      "\n"
     ]
    }
   ],
   "source": [
    "t_active_customers_A.show()"
   ]
  },
  {
   "cell_type": "code",
   "execution_count": null,
   "metadata": {},
   "outputs": [],
   "source": [
    "# left join con clientes activos"
   ]
  },
  {
   "cell_type": "code",
   "execution_count": 26,
   "metadata": {},
   "outputs": [],
   "source": [
    "final = t_active_customers_A.join(t_product_customer, on='customer_id', how='left')"
   ]
  },
  {
   "cell_type": "code",
   "execution_count": 31,
   "metadata": {},
   "outputs": [
    {
     "name": "stdout",
     "output_type": "stream",
     "text": [
      "+-----------+-------------+\n",
      "|customer_id| product_type|\n",
      "+-----------+-------------+\n",
      "|   00735398|mortage_model|\n",
      "+-----------+-------------+\n",
      "\n"
     ]
    }
   ],
   "source": [
    "final.select(F.col(\"customer_id\"), F.col(\"product_type\"))\\\n",
    "     .filter(F.col(\"product_type\").isNotNull()).show()"
   ]
  },
  {
   "cell_type": "code",
   "execution_count": null,
   "metadata": {},
   "outputs": [],
   "source": []
  }
 ],
 "metadata": {
  "kernelspec": {
   "display_name": "Python 3",
   "language": "python",
   "name": "python3"
  },
  "language_info": {
   "codemirror_mode": {
    "name": "ipython",
    "version": 3
   },
   "file_extension": ".py",
   "mimetype": "text/x-python",
   "name": "python",
   "nbconvert_exporter": "python",
   "pygments_lexer": "ipython3",
   "version": "3.8.5"
  }
 },
 "nbformat": 4,
 "nbformat_minor": 4
}
